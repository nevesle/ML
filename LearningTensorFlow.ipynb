{
  "nbformat": 4,
  "nbformat_minor": 0,
  "metadata": {
    "colab": {
      "provenance": [],
      "authorship_tag": "ABX9TyOYfHc/pX+WaQeEI1O2v2ml",
      "include_colab_link": true
    },
    "kernelspec": {
      "name": "python3",
      "display_name": "Python 3"
    },
    "language_info": {
      "name": "python"
    }
  },
  "cells": [
    {
      "cell_type": "markdown",
      "metadata": {
        "id": "view-in-github",
        "colab_type": "text"
      },
      "source": [
        "<a href=\"https://colab.research.google.com/github/nevesle/ML/blob/main/LearningTensorFlow.ipynb\" target=\"_parent\"><img src=\"https://colab.research.google.com/assets/colab-badge.svg\" alt=\"Open In Colab\"/></a>"
      ]
    },
    {
      "cell_type": "code",
      "execution_count": 2,
      "metadata": {
        "colab": {
          "base_uri": "https://localhost:8080/"
        },
        "id": "S5qBiMzuDu2Y",
        "outputId": "32145278-81d4-426a-d648-6154881c8e5f"
      },
      "outputs": [
        {
          "output_type": "stream",
          "name": "stdout",
          "text": [
            "Tensor Flow version is 2.11.0\n"
          ]
        }
      ],
      "source": [
        "import tensorflow as tf \n",
        "print('Tensor Flow version is', tf.__version__)"
      ]
    },
    {
      "cell_type": "code",
      "source": [
        "mnist = tf.keras.datasets.mnist"
      ],
      "metadata": {
        "id": "K6yzKJ6HE58Z"
      },
      "execution_count": 3,
      "outputs": []
    },
    {
      "cell_type": "code",
      "source": [
        "(x_train , y_train), (x_test, y_test) = mnist.load_data()"
      ],
      "metadata": {
        "id": "70cm2yUqE_1Z"
      },
      "execution_count": 7,
      "outputs": []
    },
    {
      "cell_type": "code",
      "source": [
        "x_train , x_test = x_train/225.0, x_test/225.0"
      ],
      "metadata": {
        "id": "9PLUY4auFWHW"
      },
      "execution_count": 8,
      "outputs": []
    }
  ]
}